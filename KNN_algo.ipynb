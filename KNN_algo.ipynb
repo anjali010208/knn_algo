{
  "cells": [
    {
      "metadata": {
        "id": "0KAWVwUr4VFs"
      },
      "cell_type": "markdown",
      "source": [
        "1. Data preparation\n",
        "2. Create additional features\n",
        "3. Algorithm creation\n",
        "4. Test algorithm\n",
        "5. Create test predictions"
      ]
    },
    {
      "metadata": {
        "trusted": true,
        "id": "G3kByNWa4VF7"
      },
      "cell_type": "code",
      "source": [
        "import numpy as np\n",
        "import pandas as pd\n",
        "from sklearn.preprocessing import LabelEncoder, StandardScaler"
      ],
      "execution_count": null,
      "outputs": []
    },
    {
      "metadata": {
        "id": "_Q-Osx1x4VF9"
      },
      "cell_type": "markdown",
      "source": [
        "# 1. Data preparation"
      ]
    },
    {
      "metadata": {
        "id": "eu3Qs_pQ4VF-"
      },
      "cell_type": "markdown",
      "source": [
        "First lets import the data and generate one set to process all data at once"
      ]
    },
    {
      "metadata": {
        "trusted": true,
        "id": "NfX8F_Ju4VF_"
      },
      "cell_type": "code",
      "source": [
        "train = pd.read_csv('/content/train.csv')\n",
        "test = pd.read_csv('/content/test.csv')"
      ],
      "execution_count": null,
      "outputs": []
    },
    {
      "metadata": {
        "trusted": true,
        "id": "-C4kCJql4VF_"
      },
      "cell_type": "code",
      "source": [
        "train['set'], test['set'] = 'train', 'test'\n",
        "combined = pd.concat([train, test])"
      ],
      "execution_count": null,
      "outputs": []
    },
    {
      "metadata": {
        "id": "TfYK6E0R4VGA"
      },
      "cell_type": "markdown",
      "source": [
        "### Missing values\n",
        "#### First step is to fill missing values and drop columns we will not be using."
      ]
    },
    {
      "metadata": {
        "trusted": true,
        "colab": {
          "base_uri": "https://localhost:8080/"
        },
        "id": "HoTIXSaJ4VGB",
        "outputId": "807cb7a7-6b25-4b70-e6a7-6238d55a1ca2"
      },
      "cell_type": "code",
      "source": [
        "combined.isnull().sum()"
      ],
      "execution_count": null,
      "outputs": [
        {
          "output_type": "execute_result",
          "data": {
            "text/plain": [
              "PassengerId       0\n",
              "Survived        418\n",
              "Pclass            0\n",
              "Name              0\n",
              "Sex               0\n",
              "Age             263\n",
              "SibSp             0\n",
              "Parch             0\n",
              "Ticket            0\n",
              "Fare              1\n",
              "Cabin          1014\n",
              "Embarked          2\n",
              "set               0\n",
              "dtype: int64"
            ]
          },
          "metadata": {},
          "execution_count": 4
        }
      ]
    },
    {
      "metadata": {
        "id": "KuD6ndjF4VGG"
      },
      "cell_type": "markdown",
      "source": [
        "#### Only one Fare price is missing. We shall fill it with the median of Pclass:"
      ]
    },
    {
      "metadata": {
        "trusted": true,
        "id": "NLy2Ed174VGK"
      },
      "cell_type": "code",
      "source": [
        "pclass = combined.loc[combined.Fare.isnull(), 'Pclass'].values[0]\n",
        "median_fare = combined.loc[combined.Pclass== pclass, 'Fare'].median()\n",
        "combined.loc[combined.Fare.isnull(), 'Fare'] = median_fare"
      ],
      "execution_count": null,
      "outputs": []
    },
    {
      "metadata": {
        "id": "KC8BYzVd4VGL"
      },
      "cell_type": "markdown",
      "source": [
        "#### Missing ages\n",
        "To fill in the missing ages, we can do something more clever then just take the overal median age. The names contain titles of which some are linked to their age. Master is a younger boy (in general). Lets take the median of each age group."
      ]
    },
    {
      "metadata": {
        "trusted": true,
        "colab": {
          "base_uri": "https://localhost:8080/"
        },
        "id": "1z7e4DR24VGM",
        "outputId": "59a6163a-6b9e-4152-a0ac-9c5f9eabb53f"
      },
      "cell_type": "code",
      "source": [
        "# Select everything before the . as title\n",
        "combined['Title'] = combined['Name'].str.extract('([A-Za-z]+)\\.', expand=True)\n",
        "combined['Title'].unique()"
      ],
      "execution_count": null,
      "outputs": [
        {
          "output_type": "execute_result",
          "data": {
            "text/plain": [
              "array(['Mr', 'Mrs', 'Miss', 'Master', 'Don', 'Rev', 'Dr', 'Mme', 'Ms',\n",
              "       'Major', 'Lady', 'Sir', 'Mlle', 'Col', 'Capt', 'Countess',\n",
              "       'Jonkheer', 'Dona'], dtype=object)"
            ]
          },
          "metadata": {},
          "execution_count": 6
        }
      ]
    },
    {
      "metadata": {
        "trusted": true,
        "colab": {
          "base_uri": "https://localhost:8080/"
        },
        "id": "-wTIxYXL4VGN",
        "outputId": "c8ac710e-8d8e-4949-dee8-00c6876f6199"
      },
      "cell_type": "code",
      "source": [
        "title_reduction = {'Mr': 'Mr', 'Mrs': 'Mrs', 'Miss': 'Miss', \n",
        "                   'Master': 'Master', 'Don': 'Mr', 'Rev': 'Rev',\n",
        "                   'Dr': 'Dr', 'Mme': 'Miss', 'Ms': 'Miss',\n",
        "                   'Major': 'Mr', 'Lady': 'Mrs', 'Sir': 'Mr',\n",
        "                   'Mlle': 'Miss', 'Col': 'Mr', 'Capt': 'Mr',\n",
        "                   'Countess': 'Mrs','Jonkheer': 'Mr',\n",
        "                   'Dona': 'Mrs'}\n",
        "combined['Title'] = combined['Title'].map(title_reduction)\n",
        "combined['Title'].unique()"
      ],
      "execution_count": null,
      "outputs": [
        {
          "output_type": "execute_result",
          "data": {
            "text/plain": [
              "array(['Mr', 'Mrs', 'Miss', 'Master', 'Rev', 'Dr'], dtype=object)"
            ]
          },
          "metadata": {},
          "execution_count": 7
        }
      ]
    },
    {
      "metadata": {
        "trusted": true,
        "colab": {
          "base_uri": "https://localhost:8080/"
        },
        "id": "mvCtVaof4VGO",
        "outputId": "ee05f5f7-fbc7-4c3f-b01f-a96826452f27"
      },
      "cell_type": "code",
      "source": [
        "for title, age in combined.groupby('Title')['Age'].median().iteritems():\n",
        "    print(title, age)\n",
        "    combined.loc[(combined['Title']==title) & (combined['Age'].isnull()), 'Age'] = age"
      ],
      "execution_count": null,
      "outputs": [
        {
          "output_type": "stream",
          "name": "stdout",
          "text": [
            "Dr 49.0\n",
            "Master 4.0\n",
            "Miss 22.0\n",
            "Mr 30.0\n",
            "Mrs 36.0\n",
            "Rev 41.5\n"
          ]
        }
      ]
    },
    {
      "metadata": {
        "trusted": true,
        "colab": {
          "base_uri": "https://localhost:8080/"
        },
        "id": "RkWzxlTt4VGP",
        "outputId": "ac2d16af-b803-4c1e-ab60-87a4dac0a2e2"
      },
      "cell_type": "code",
      "source": [
        "combined.isnull().sum()"
      ],
      "execution_count": null,
      "outputs": [
        {
          "output_type": "execute_result",
          "data": {
            "text/plain": [
              "PassengerId       0\n",
              "Survived        418\n",
              "Pclass            0\n",
              "Name              0\n",
              "Sex               0\n",
              "Age               0\n",
              "SibSp             0\n",
              "Parch             0\n",
              "Ticket            0\n",
              "Fare              0\n",
              "Cabin          1014\n",
              "Embarked          2\n",
              "set               0\n",
              "Title             0\n",
              "dtype: int64"
            ]
          },
          "metadata": {},
          "execution_count": 9
        }
      ]
    },
    {
      "metadata": {
        "id": "-cdGn_CG4VGQ"
      },
      "cell_type": "markdown",
      "source": [
        "# 2. Create additional features"
      ]
    },
    {
      "metadata": {
        "id": "dfxODZdv4VGQ"
      },
      "cell_type": "markdown",
      "source": [
        "We can note that there could be groups of people, who would help each other. This might affect the survivability."
      ]
    },
    {
      "metadata": {
        "trusted": true,
        "id": "c8iEyhDU4VGR"
      },
      "cell_type": "code",
      "source": [
        "def other_family_members_survived(dataset, label='family_survival'):\n",
        "    \"\"\"\n",
        "    Check if other family members survived\n",
        "      -> 0 other did not survive\n",
        "      -> 1 at least one other family member survived\n",
        "      -> 0.5 unknown if other members survived or person was alone\n",
        "    \n",
        "    Parameters\n",
        "    ----------\n",
        "    dataset : DataFrame\n",
        "      The sub-dataframe containing the family\n",
        "    \"\"\"\n",
        "    ds = dataset.copy()\n",
        "    if len(dataset) == 1:\n",
        "        ds[label] = 0.5\n",
        "        return ds\n",
        "    result = []\n",
        "    for ix, row in dataset.iterrows():\n",
        "        survived_fraction = dataset.drop(ix)['Survived'].mean()\n",
        "        if np.isnan(survived_fraction):\n",
        "            result.append(0.5)\n",
        "        elif survived_fraction == 0:\n",
        "            result.append(0)\n",
        "        else:\n",
        "            result.append(1)\n",
        "    ds[label] = result\n",
        "    return ds"
      ],
      "execution_count": null,
      "outputs": []
    },
    {
      "metadata": {
        "trusted": true,
        "id": "dBABBsg64VGS"
      },
      "cell_type": "code",
      "source": [
        "combined['surname'] = combined['Name'].apply(lambda x: x.split(\",\")[0])\n",
        "combined = combined.groupby(['surname', 'Fare']).apply(other_family_members_survived).reset_index(drop=True)"
      ],
      "execution_count": null,
      "outputs": []
    },
    {
      "metadata": {
        "id": "CyZyHcqF4VGT"
      },
      "cell_type": "markdown",
      "source": [
        "Missing data on families can also be extracted from Tickets. Same ticket orders have the same ticket number."
      ]
    },
    {
      "metadata": {
        "trusted": true,
        "id": "z0Ow1br_4VGT"
      },
      "cell_type": "code",
      "source": [
        "combined = combined.groupby(['Ticket']).apply(lambda x: other_family_members_survived(x, label='family_survival_ticket')).reset_index(drop=True)\n",
        "combined.loc[combined['family_survival'] == 0.5, 'family_survival'] = combined.loc[combined['family_survival'] == 0.5, 'family_survival_ticket']"
      ],
      "execution_count": null,
      "outputs": []
    },
    {
      "metadata": {
        "id": "I-YJXf3e4VGU"
      },
      "cell_type": "markdown",
      "source": [
        "We get family size from Parch and Sibsp"
      ]
    },
    {
      "metadata": {
        "trusted": true,
        "id": "NXyC4dZO4VGU"
      },
      "cell_type": "code",
      "source": [
        "combined['family_size'] = combined['Parch'] + combined['SibSp']"
      ],
      "execution_count": null,
      "outputs": []
    },
    {
      "metadata": {
        "id": "DaU3E0RC4VGU"
      },
      "cell_type": "markdown",
      "source": [
        "KNN needs numerical features therefore, we will convert them to numbers. In a general sense, binary categorical data can work. For larger categorical groups, it only makes sense when the numerical values itself have meaning. For example, for class levels, the difference between first class and third class actually mean something. On the other hand, if we would convert Embarked to a number, there is no meaning in the difference between embarked 1 and embarked 2."
      ]
    },
    {
      "metadata": {
        "trusted": true,
        "id": "BArZi_D-4VGU"
      },
      "cell_type": "code",
      "source": [
        "combined['Sex'] = LabelEncoder().fit_transform(combined['Sex'])"
      ],
      "execution_count": null,
      "outputs": []
    },
    {
      "metadata": {
        "trusted": true,
        "id": "oGF_InIB4VGV"
      },
      "cell_type": "code",
      "source": [
        "combined.loc[:, 'Age'] = pd.qcut(combined['Age'], 4, labels=False)\n",
        "combined.loc[:, 'Fare'] = pd.qcut(combined['Fare'], 5, labels=False)"
      ],
      "execution_count": null,
      "outputs": []
    },
    {
      "metadata": {
        "_uuid": "d629ff2d2480ee46fbb7e2d37f6b5fab8052498a",
        "collapsed": true,
        "_cell_guid": "79c7e3d0-c299-4dcb-8224-4455121ee9b0",
        "trusted": false,
        "id": "XtHGjxD54VGV"
      },
      "cell_type": "markdown",
      "source": [
        "#### Select only coluns we will use and then we scale them\n",
        "\n",
        "1.   List item\n",
        "2.   List item\n",
        "\n"
      ]
    },
    {
      "metadata": {
        "trusted": true,
        "id": "JLFWO9cG4VGV"
      },
      "cell_type": "code",
      "source": [
        "selected = ['Pclass', 'Sex', 'Age', 'Fare', 'family_size', 'family_survival']\n",
        "scaler  = StandardScaler()\n",
        "scaler.fit(combined[selected])\n",
        "combined[selected] = scaler.transform(combined[selected])"
      ],
      "execution_count": null,
      "outputs": []
    },
    {
      "metadata": {
        "trusted": true,
        "id": "RSlm69OJ4VGV"
      },
      "cell_type": "code",
      "source": [
        "combined.to_parquet('titanic_family_survivabillity.parquet', index=False)"
      ],
      "execution_count": null,
      "outputs": []
    },
    {
      "metadata": {
        "id": "qbJu-fD04VGV"
      },
      "cell_type": "markdown",
      "source": [
        "#### Now we split the sets back to train/test"
      ]
    },
    {
      "metadata": {
        "trusted": true,
        "id": "-DOukwPs4VGW"
      },
      "cell_type": "code",
      "source": [
        "train = combined.loc[combined['set'] == 'train'].drop('set', axis=1).reset_index(drop=True)\n",
        "test = combined.loc[combined['set'] == 'test'].drop(['set', 'Survived'], axis=1).reset_index(drop=True)"
      ],
      "execution_count": null,
      "outputs": []
    },
    {
      "metadata": {
        "id": "v_c5Gv474VGW"
      },
      "cell_type": "markdown",
      "source": [
        "# 3. Algorithm\n",
        "KNN works by finding, as the name suggests, the nearest neighbor. It assumes that classes share similar properties. To compare to points, we have to see them as vectors. Each feature adds to a dimension. Would we only have a single feature it would be the numeric distance between the two points. With two or more features, we need to do something smarter. To create a single number to express the similarity (or distance) we need to agegrate all the features (or dimensions). One way is to use the Euclidean distance, which is the root of the sum of squared distances between all features. There are many other ways to agegrate the feature distances, all with their strengths and weaknesses. For this, we will use the Euclidean distance."
      ]
    },
    {
      "metadata": {
        "trusted": true,
        "colab": {
          "base_uri": "https://localhost:8080/"
        },
        "id": "e25fo6fE4VGX",
        "outputId": "d5089941-ccef-4187-c115-c7cef48ebfc1"
      },
      "cell_type": "code",
      "source": [
        "def euclidean_distance(vector1, vector2):\n",
        "    return np.sqrt(np.sum((vector1 - vector2)**2))\n",
        "\n",
        "# test function\n",
        "vec1 = np.array([3, 0])\n",
        "vec2 = np.array([0, 4])\n",
        "\n",
        "# this is the 3:4:5 triangle and therefore, it should return 5 (Long live Pythagoras)\n",
        "euclidean_distance(vec1, vec2)"
      ],
      "execution_count": null,
      "outputs": [
        {
          "output_type": "execute_result",
          "data": {
            "text/plain": [
              "5.0"
            ]
          },
          "metadata": {},
          "execution_count": 19
        }
      ]
    },
    {
      "metadata": {
        "id": "lI0z7-PC4VGb"
      },
      "cell_type": "markdown",
      "source": [
        "Using our distance function we will now find the closest match in our dataset, when providing a vector."
      ]
    },
    {
      "metadata": {
        "trusted": true,
        "colab": {
          "base_uri": "https://localhost:8080/",
          "height": 81
        },
        "id": "rEHaAZXR4VGc",
        "outputId": "8798feba-1f5d-4d40-be79-97f074bda61e"
      },
      "cell_type": "code",
      "source": [
        "# A first implementation\n",
        "def get_nearest_neighbor(vector, dataset, number_of_neighbors=1, ignore_cols=['Survived']):\n",
        "    distances = []\n",
        "    for ix, row in dataset.loc[:, ~dataset.columns.isin(ignore_cols)].iterrows():\n",
        "        distance = euclidean_distance(row, vector)\n",
        "        distances.append((distance, ix))\n",
        "    indices = [x[1] for x in sorted(distances, key=lambda x: x[0])]\n",
        "    neighbors = dataset.loc[indices[:number_of_neighbors]]\n",
        "    return neighbors\n",
        "\n",
        "# Another implementation using Pandas\n",
        "def get_nearest_neighbor(vector, dataset, number_of_vectors=1, ignore_cols=['Survived'], not_count_duplicates=False):\n",
        "    ds = dataset.copy()\n",
        "    ds['distance'] = ds.loc[:, ~ds.columns.isin(ignore_cols)].apply(\n",
        "        lambda x: euclidean_distance(x, vector), axis=1)\n",
        "    if not_count_duplicates:\n",
        "        distances = sorted(ds.distance.unique())[:number_of_vectors]\n",
        "        return ds.loc[ds.distance <= max(distances)].drop('distance', axis=1)\n",
        "    return ds.sort_values('distance', ascending=True).head(number_of_vectors).drop('distance', axis=1)\n",
        "        \n",
        "# test function\n",
        "dataset = pd.DataFrame([\n",
        "    {'a': 1, 'b': 1, 'Survived': 1},\n",
        "    {'a': 2, 'b': 2, 'Survived': 1},\n",
        "    {'a': 3, 'b': 3, 'Survived': 0},\n",
        "    {'a': 4, 'b': 4, 'Survived': 0},\n",
        "    {'a': 5, 'b': 5, 'Survived': 0},\n",
        "])\n",
        "vector = pd.Series({'a': 2.5, 'b': 2.5})\n",
        "\n",
        "# should be (2,2) and (3,3) (if keeping track of duplicates)\n",
        "get_nearest_neighbor(vector, dataset)"
      ],
      "execution_count": null,
      "outputs": [
        {
          "output_type": "execute_result",
          "data": {
            "text/plain": [
              "   a  b  Survived\n",
              "1  2  2         1"
            ],
            "text/html": [
              "\n",
              "  <div id=\"df-5690da4c-23a5-4084-923c-36b60a59625d\">\n",
              "    <div class=\"colab-df-container\">\n",
              "      <div>\n",
              "<style scoped>\n",
              "    .dataframe tbody tr th:only-of-type {\n",
              "        vertical-align: middle;\n",
              "    }\n",
              "\n",
              "    .dataframe tbody tr th {\n",
              "        vertical-align: top;\n",
              "    }\n",
              "\n",
              "    .dataframe thead th {\n",
              "        text-align: right;\n",
              "    }\n",
              "</style>\n",
              "<table border=\"1\" class=\"dataframe\">\n",
              "  <thead>\n",
              "    <tr style=\"text-align: right;\">\n",
              "      <th></th>\n",
              "      <th>a</th>\n",
              "      <th>b</th>\n",
              "      <th>Survived</th>\n",
              "    </tr>\n",
              "  </thead>\n",
              "  <tbody>\n",
              "    <tr>\n",
              "      <th>1</th>\n",
              "      <td>2</td>\n",
              "      <td>2</td>\n",
              "      <td>1</td>\n",
              "    </tr>\n",
              "  </tbody>\n",
              "</table>\n",
              "</div>\n",
              "      <button class=\"colab-df-convert\" onclick=\"convertToInteractive('df-5690da4c-23a5-4084-923c-36b60a59625d')\"\n",
              "              title=\"Convert this dataframe to an interactive table.\"\n",
              "              style=\"display:none;\">\n",
              "        \n",
              "  <svg xmlns=\"http://www.w3.org/2000/svg\" height=\"24px\"viewBox=\"0 0 24 24\"\n",
              "       width=\"24px\">\n",
              "    <path d=\"M0 0h24v24H0V0z\" fill=\"none\"/>\n",
              "    <path d=\"M18.56 5.44l.94 2.06.94-2.06 2.06-.94-2.06-.94-.94-2.06-.94 2.06-2.06.94zm-11 1L8.5 8.5l.94-2.06 2.06-.94-2.06-.94L8.5 2.5l-.94 2.06-2.06.94zm10 10l.94 2.06.94-2.06 2.06-.94-2.06-.94-.94-2.06-.94 2.06-2.06.94z\"/><path d=\"M17.41 7.96l-1.37-1.37c-.4-.4-.92-.59-1.43-.59-.52 0-1.04.2-1.43.59L10.3 9.45l-7.72 7.72c-.78.78-.78 2.05 0 2.83L4 21.41c.39.39.9.59 1.41.59.51 0 1.02-.2 1.41-.59l7.78-7.78 2.81-2.81c.8-.78.8-2.07 0-2.86zM5.41 20L4 18.59l7.72-7.72 1.47 1.35L5.41 20z\"/>\n",
              "  </svg>\n",
              "      </button>\n",
              "      \n",
              "  <style>\n",
              "    .colab-df-container {\n",
              "      display:flex;\n",
              "      flex-wrap:wrap;\n",
              "      gap: 12px;\n",
              "    }\n",
              "\n",
              "    .colab-df-convert {\n",
              "      background-color: #E8F0FE;\n",
              "      border: none;\n",
              "      border-radius: 50%;\n",
              "      cursor: pointer;\n",
              "      display: none;\n",
              "      fill: #1967D2;\n",
              "      height: 32px;\n",
              "      padding: 0 0 0 0;\n",
              "      width: 32px;\n",
              "    }\n",
              "\n",
              "    .colab-df-convert:hover {\n",
              "      background-color: #E2EBFA;\n",
              "      box-shadow: 0px 1px 2px rgba(60, 64, 67, 0.3), 0px 1px 3px 1px rgba(60, 64, 67, 0.15);\n",
              "      fill: #174EA6;\n",
              "    }\n",
              "\n",
              "    [theme=dark] .colab-df-convert {\n",
              "      background-color: #3B4455;\n",
              "      fill: #D2E3FC;\n",
              "    }\n",
              "\n",
              "    [theme=dark] .colab-df-convert:hover {\n",
              "      background-color: #434B5C;\n",
              "      box-shadow: 0px 1px 3px 1px rgba(0, 0, 0, 0.15);\n",
              "      filter: drop-shadow(0px 1px 2px rgba(0, 0, 0, 0.3));\n",
              "      fill: #FFFFFF;\n",
              "    }\n",
              "  </style>\n",
              "\n",
              "      <script>\n",
              "        const buttonEl =\n",
              "          document.querySelector('#df-5690da4c-23a5-4084-923c-36b60a59625d button.colab-df-convert');\n",
              "        buttonEl.style.display =\n",
              "          google.colab.kernel.accessAllowed ? 'block' : 'none';\n",
              "\n",
              "        async function convertToInteractive(key) {\n",
              "          const element = document.querySelector('#df-5690da4c-23a5-4084-923c-36b60a59625d');\n",
              "          const dataTable =\n",
              "            await google.colab.kernel.invokeFunction('convertToInteractive',\n",
              "                                                     [key], {});\n",
              "          if (!dataTable) return;\n",
              "\n",
              "          const docLinkHtml = 'Like what you see? Visit the ' +\n",
              "            '<a target=\"_blank\" href=https://colab.research.google.com/notebooks/data_table.ipynb>data table notebook</a>'\n",
              "            + ' to learn more about interactive tables.';\n",
              "          element.innerHTML = '';\n",
              "          dataTable['output_type'] = 'display_data';\n",
              "          await google.colab.output.renderOutput(dataTable, element);\n",
              "          const docLink = document.createElement('div');\n",
              "          docLink.innerHTML = docLinkHtml;\n",
              "          element.appendChild(docLink);\n",
              "        }\n",
              "      </script>\n",
              "    </div>\n",
              "  </div>\n",
              "  "
            ]
          },
          "metadata": {},
          "execution_count": 20
        }
      ]
    },
    {
      "metadata": {
        "id": "_ediOeK74VGe"
      },
      "cell_type": "markdown",
      "source": [
        "Now that we have a function to list the nearest neighbors, we need to select the most dominant class of those neighbors to select as our prediction."
      ]
    },
    {
      "metadata": {
        "trusted": true,
        "colab": {
          "base_uri": "https://localhost:8080/"
        },
        "id": "XZ3AHHWq4VGf",
        "outputId": "5fbc3edd-8b58-47ff-b057-f6279586f5ec"
      },
      "cell_type": "code",
      "source": [
        "def predict(vector, dataset, number_of_neighbors=1, y='Survived'):\n",
        "    neighbors = get_nearest_neighbor(vector, dataset, number_of_neighbors)\n",
        "    return round(neighbors[y].mean())\n",
        "\n",
        "# test function\n",
        "print(predict(vector, dataset))\n",
        "print(predict(pd.Series({'a': 4.5, 'b': 4.5}), dataset))"
      ],
      "execution_count": null,
      "outputs": [
        {
          "output_type": "stream",
          "name": "stdout",
          "text": [
            "1\n",
            "0\n"
          ]
        }
      ]
    },
    {
      "metadata": {
        "id": "LDIuqA-E4VGg"
      },
      "cell_type": "markdown",
      "source": [
        "# 4. Test algorithm on Titanic dataset"
      ]
    },
    {
      "metadata": {
        "id": "Bwm0PgIE4VGg"
      },
      "cell_type": "markdown",
      "source": [
        "To test, we select on row from the set and use KNN to find the best candidate. Of course, we will remove that row from the dataset, or we would find a distance of zero as the identical row is in there."
      ]
    },
    {
      "metadata": {
        "trusted": true,
        "colab": {
          "base_uri": "https://localhost:8080/"
        },
        "id": "dGZZFzVg4VGg",
        "outputId": "7b4f6204-506f-4ba4-ea4e-b0ff9cd8e5a2"
      },
      "cell_type": "code",
      "source": [
        "def predict_dataset(dataset, number_of_neighbors=1):\n",
        "    ds = dataset.copy()\n",
        "    def predict_row(vector, dataset):\n",
        "        subset = dataset.loc[~(dataset.index==vector.name)]\n",
        "        if vector.name % 100 == 0:\n",
        "            print(vector.name)\n",
        "        return int(predict(vector, subset, number_of_neighbors))\n",
        "\n",
        "    ds['predicted'] = ds.loc[:, ds.columns.isin(selected)].apply(\n",
        "        lambda x: predict_row(x, ds), axis=1)\n",
        "    \n",
        "    return ds\n",
        "\n",
        "ds = predict_dataset(train, number_of_neighbors=10)\n",
        "\n",
        "print('Accuracy:', sum(ds['Survived'] == ds['predicted']) / len(ds))\n"
      ],
      "execution_count": null,
      "outputs": [
        {
          "output_type": "stream",
          "name": "stdout",
          "text": [
            "0\n",
            "100\n",
            "200\n",
            "300\n",
            "400\n",
            "500\n",
            "600\n",
            "700\n",
            "800\n",
            "Accuracy: 0.835016835016835\n"
          ]
        }
      ]
    },
    {
      "metadata": {
        "id": "Voibf7YL4VGh"
      },
      "cell_type": "markdown",
      "source": [
        "We find a accuracy of 83.5% on the training set. Lets now make our test set predictions."
      ]
    },
    {
      "metadata": {
        "id": "-4zpmKrp4VGh"
      },
      "cell_type": "markdown",
      "source": [
        "## 5. create prediction for testset"
      ]
    },
    {
      "metadata": {
        "trusted": true,
        "id": "qceIA6na4VGh"
      },
      "cell_type": "code",
      "source": [
        "def predict_testset(test_dataset, train_dataset, number_of_neighbors=1):\n",
        "    ds = test_dataset.copy()\n",
        "    select = selected + ['Survived']\n",
        "    \n",
        "    def predict_row(vector, dataset):\n",
        "        if vector.name % 100 == 0:\n",
        "            print(vector.name)\n",
        "        return int(predict(vector, dataset[select], number_of_neighbors))\n",
        "\n",
        "    ds['Survived'] = ds.loc[:, ds.columns.isin(selected)].apply(\n",
        "        lambda x: predict_row(x, train_dataset), axis=1)\n",
        "    \n",
        "    return ds"
      ],
      "execution_count": null,
      "outputs": []
    },
    {
      "metadata": {
        "trusted": true,
        "colab": {
          "base_uri": "https://localhost:8080/"
        },
        "id": "TfNCzO7y4VGh",
        "outputId": "98560ea8-d9e9-4f34-b718-bbb7d9764f9e"
      },
      "cell_type": "code",
      "source": [
        "final_test = predict_testset(test, train, number_of_neighbors=10)"
      ],
      "execution_count": null,
      "outputs": [
        {
          "output_type": "stream",
          "name": "stdout",
          "text": [
            "0\n",
            "100\n",
            "200\n",
            "300\n",
            "400\n"
          ]
        }
      ]
    },
    {
      "metadata": {
        "trusted": true,
        "id": "aFblkcMD4VGi"
      },
      "cell_type": "code",
      "source": [
        "result = final_test[['PassengerId', 'Survived']].copy()"
      ],
      "execution_count": null,
      "outputs": []
    },
    {
      "metadata": {
        "trusted": true,
        "colab": {
          "base_uri": "https://localhost:8080/",
          "height": 424
        },
        "id": "LBRLKNef4VGi",
        "outputId": "dcaf1c65-f85f-4052-fcc2-ed8cd0570ffe"
      },
      "cell_type": "code",
      "source": [
        "result"
      ],
      "execution_count": null,
      "outputs": [
        {
          "output_type": "execute_result",
          "data": {
            "text/plain": [
              "     PassengerId  Survived\n",
              "0           1227         0\n",
              "1           1050         0\n",
              "2           1128         0\n",
              "3           1083         0\n",
              "4           1158         0\n",
              "..           ...       ...\n",
              "413         1114         1\n",
              "414          925         0\n",
              "415         1136         0\n",
              "416         1059         0\n",
              "417          906         1\n",
              "\n",
              "[418 rows x 2 columns]"
            ],
            "text/html": [
              "\n",
              "  <div id=\"df-223d4791-6e96-41f5-a5de-868ab13118b6\">\n",
              "    <div class=\"colab-df-container\">\n",
              "      <div>\n",
              "<style scoped>\n",
              "    .dataframe tbody tr th:only-of-type {\n",
              "        vertical-align: middle;\n",
              "    }\n",
              "\n",
              "    .dataframe tbody tr th {\n",
              "        vertical-align: top;\n",
              "    }\n",
              "\n",
              "    .dataframe thead th {\n",
              "        text-align: right;\n",
              "    }\n",
              "</style>\n",
              "<table border=\"1\" class=\"dataframe\">\n",
              "  <thead>\n",
              "    <tr style=\"text-align: right;\">\n",
              "      <th></th>\n",
              "      <th>PassengerId</th>\n",
              "      <th>Survived</th>\n",
              "    </tr>\n",
              "  </thead>\n",
              "  <tbody>\n",
              "    <tr>\n",
              "      <th>0</th>\n",
              "      <td>1227</td>\n",
              "      <td>0</td>\n",
              "    </tr>\n",
              "    <tr>\n",
              "      <th>1</th>\n",
              "      <td>1050</td>\n",
              "      <td>0</td>\n",
              "    </tr>\n",
              "    <tr>\n",
              "      <th>2</th>\n",
              "      <td>1128</td>\n",
              "      <td>0</td>\n",
              "    </tr>\n",
              "    <tr>\n",
              "      <th>3</th>\n",
              "      <td>1083</td>\n",
              "      <td>0</td>\n",
              "    </tr>\n",
              "    <tr>\n",
              "      <th>4</th>\n",
              "      <td>1158</td>\n",
              "      <td>0</td>\n",
              "    </tr>\n",
              "    <tr>\n",
              "      <th>...</th>\n",
              "      <td>...</td>\n",
              "      <td>...</td>\n",
              "    </tr>\n",
              "    <tr>\n",
              "      <th>413</th>\n",
              "      <td>1114</td>\n",
              "      <td>1</td>\n",
              "    </tr>\n",
              "    <tr>\n",
              "      <th>414</th>\n",
              "      <td>925</td>\n",
              "      <td>0</td>\n",
              "    </tr>\n",
              "    <tr>\n",
              "      <th>415</th>\n",
              "      <td>1136</td>\n",
              "      <td>0</td>\n",
              "    </tr>\n",
              "    <tr>\n",
              "      <th>416</th>\n",
              "      <td>1059</td>\n",
              "      <td>0</td>\n",
              "    </tr>\n",
              "    <tr>\n",
              "      <th>417</th>\n",
              "      <td>906</td>\n",
              "      <td>1</td>\n",
              "    </tr>\n",
              "  </tbody>\n",
              "</table>\n",
              "<p>418 rows × 2 columns</p>\n",
              "</div>\n",
              "      <button class=\"colab-df-convert\" onclick=\"convertToInteractive('df-223d4791-6e96-41f5-a5de-868ab13118b6')\"\n",
              "              title=\"Convert this dataframe to an interactive table.\"\n",
              "              style=\"display:none;\">\n",
              "        \n",
              "  <svg xmlns=\"http://www.w3.org/2000/svg\" height=\"24px\"viewBox=\"0 0 24 24\"\n",
              "       width=\"24px\">\n",
              "    <path d=\"M0 0h24v24H0V0z\" fill=\"none\"/>\n",
              "    <path d=\"M18.56 5.44l.94 2.06.94-2.06 2.06-.94-2.06-.94-.94-2.06-.94 2.06-2.06.94zm-11 1L8.5 8.5l.94-2.06 2.06-.94-2.06-.94L8.5 2.5l-.94 2.06-2.06.94zm10 10l.94 2.06.94-2.06 2.06-.94-2.06-.94-.94-2.06-.94 2.06-2.06.94z\"/><path d=\"M17.41 7.96l-1.37-1.37c-.4-.4-.92-.59-1.43-.59-.52 0-1.04.2-1.43.59L10.3 9.45l-7.72 7.72c-.78.78-.78 2.05 0 2.83L4 21.41c.39.39.9.59 1.41.59.51 0 1.02-.2 1.41-.59l7.78-7.78 2.81-2.81c.8-.78.8-2.07 0-2.86zM5.41 20L4 18.59l7.72-7.72 1.47 1.35L5.41 20z\"/>\n",
              "  </svg>\n",
              "      </button>\n",
              "      \n",
              "  <style>\n",
              "    .colab-df-container {\n",
              "      display:flex;\n",
              "      flex-wrap:wrap;\n",
              "      gap: 12px;\n",
              "    }\n",
              "\n",
              "    .colab-df-convert {\n",
              "      background-color: #E8F0FE;\n",
              "      border: none;\n",
              "      border-radius: 50%;\n",
              "      cursor: pointer;\n",
              "      display: none;\n",
              "      fill: #1967D2;\n",
              "      height: 32px;\n",
              "      padding: 0 0 0 0;\n",
              "      width: 32px;\n",
              "    }\n",
              "\n",
              "    .colab-df-convert:hover {\n",
              "      background-color: #E2EBFA;\n",
              "      box-shadow: 0px 1px 2px rgba(60, 64, 67, 0.3), 0px 1px 3px 1px rgba(60, 64, 67, 0.15);\n",
              "      fill: #174EA6;\n",
              "    }\n",
              "\n",
              "    [theme=dark] .colab-df-convert {\n",
              "      background-color: #3B4455;\n",
              "      fill: #D2E3FC;\n",
              "    }\n",
              "\n",
              "    [theme=dark] .colab-df-convert:hover {\n",
              "      background-color: #434B5C;\n",
              "      box-shadow: 0px 1px 3px 1px rgba(0, 0, 0, 0.15);\n",
              "      filter: drop-shadow(0px 1px 2px rgba(0, 0, 0, 0.3));\n",
              "      fill: #FFFFFF;\n",
              "    }\n",
              "  </style>\n",
              "\n",
              "      <script>\n",
              "        const buttonEl =\n",
              "          document.querySelector('#df-223d4791-6e96-41f5-a5de-868ab13118b6 button.colab-df-convert');\n",
              "        buttonEl.style.display =\n",
              "          google.colab.kernel.accessAllowed ? 'block' : 'none';\n",
              "\n",
              "        async function convertToInteractive(key) {\n",
              "          const element = document.querySelector('#df-223d4791-6e96-41f5-a5de-868ab13118b6');\n",
              "          const dataTable =\n",
              "            await google.colab.kernel.invokeFunction('convertToInteractive',\n",
              "                                                     [key], {});\n",
              "          if (!dataTable) return;\n",
              "\n",
              "          const docLinkHtml = 'Like what you see? Visit the ' +\n",
              "            '<a target=\"_blank\" href=https://colab.research.google.com/notebooks/data_table.ipynb>data table notebook</a>'\n",
              "            + ' to learn more about interactive tables.';\n",
              "          element.innerHTML = '';\n",
              "          dataTable['output_type'] = 'display_data';\n",
              "          await google.colab.output.renderOutput(dataTable, element);\n",
              "          const docLink = document.createElement('div');\n",
              "          docLink.innerHTML = docLinkHtml;\n",
              "          element.appendChild(docLink);\n",
              "        }\n",
              "      </script>\n",
              "    </div>\n",
              "  </div>\n",
              "  "
            ]
          },
          "metadata": {},
          "execution_count": 26
        }
      ]
    }
  ],
  "metadata": {
    "kernelspec": {
      "name": "python3",
      "display_name": "Python 3",
      "language": "python"
    },
    "language_info": {
      "name": "python",
      "version": "3.7.6",
      "mimetype": "text/x-python",
      "codemirror_mode": {
        "name": "ipython",
        "version": 3
      },
      "pygments_lexer": "ipython3",
      "nbconvert_exporter": "python",
      "file_extension": ".py"
    },
    "colab": {
      "name": "KNN algo.ipynb",
      "provenance": []
    }
  },
  "nbformat": 4,
  "nbformat_minor": 0
}